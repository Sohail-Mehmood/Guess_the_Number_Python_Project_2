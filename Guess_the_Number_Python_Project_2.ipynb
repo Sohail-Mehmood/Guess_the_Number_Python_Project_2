{
  "nbformat": 4,
  "nbformat_minor": 0,
  "metadata": {
    "colab": {
      "provenance": []
    },
    "kernelspec": {
      "name": "python3",
      "display_name": "Python 3"
    },
    "language_info": {
      "name": "python"
    }
  },
  "cells": [
    {
      "cell_type": "markdown",
      "source": [
        "**Guess the Number Python Project 2**"
      ],
      "metadata": {
        "id": "n8RnDsTR9Dys"
      }
    },
    {
      "cell_type": "code",
      "source": [
        "import random\n",
        "\n",
        "# Generate a random number between 1 and 10\n",
        "num = random.randint(1, 10)\n",
        "\n",
        "print(\"Guess a number between 1 and 10\")\n",
        "\n",
        "guess = None  # Initialize guess variable\n",
        "attempts = 0  # Initialize attempts counter\n",
        "\n",
        "while guess != num:\n",
        "    guess = input(\"Enter your guess: \")  # Take user input\n",
        "\n",
        "    try:\n",
        "        guess = int(guess)  # Convert the input to an integer\n",
        "    except ValueError:\n",
        "        print(\"Please enter a valid number.\")\n",
        "        continue  # If input is not a valid number, prompt again\n",
        "\n",
        "    attempts += 1  # Increment the attempts counter\n",
        "\n",
        "    if guess == num:\n",
        "        print(f\"Congratulations! You guessed the number in {attempts} attempts!\")\n",
        "        break  # End the loop if the guess is correct\n",
        "    elif guess > num:\n",
        "        print(\"Too high! Try again.\")  # Give a hint if guess is too high\n",
        "    elif guess < num:\n",
        "        print(\"Too low! Try again.\")  # Give a hint if guess is too low\n"
      ],
      "metadata": {
        "colab": {
          "base_uri": "https://localhost:8080/"
        },
        "id": "DfVjr-Fe7Scr",
        "outputId": "f82580bb-d213-4085-d229-cf817f9f0372"
      },
      "execution_count": null,
      "outputs": [
        {
          "output_type": "stream",
          "name": "stdout",
          "text": [
            "Guess a number between 1 and 10\n",
            "Enter your guess: 2\n",
            "Too low! Try again.\n",
            "Enter your guess: 5\n",
            "Too low! Try again.\n",
            "Enter your guess: 6\n",
            "Congratulations! You guessed the number in 3 attempts!\n"
          ]
        }
      ]
    }
  ]
}